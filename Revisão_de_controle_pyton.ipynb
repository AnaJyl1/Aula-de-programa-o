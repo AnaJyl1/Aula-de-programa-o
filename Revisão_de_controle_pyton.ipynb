{
  "nbformat": 4,
  "nbformat_minor": 0,
  "metadata": {
    "colab": {
      "provenance": [],
      "toc_visible": true,
      "authorship_tag": "ABX9TyPDD8R5Bu1lMgctkZ3ch+AC",
      "include_colab_link": true
    },
    "kernelspec": {
      "name": "python3",
      "display_name": "Python 3"
    },
    "language_info": {
      "name": "python"
    }
  },
  "cells": [
    {
      "cell_type": "markdown",
      "metadata": {
        "id": "view-in-github",
        "colab_type": "text"
      },
      "source": [
        "<a href=\"https://colab.research.google.com/github/AnaJyl1/Aula-de-programa-o/blob/main/Revis%C3%A3o_de_controle_pyton.ipynb\" target=\"_parent\"><img src=\"https://colab.research.google.com/assets/colab-badge.svg\" alt=\"Open In Colab\"/></a>"
      ]
    },
    {
      "cell_type": "code",
      "source": [],
      "metadata": {
        "id": "4glsQXiBjLLb"
      },
      "execution_count": null,
      "outputs": []
    },
    {
      "cell_type": "markdown",
      "source": [
        "Revisão\n"
      ],
      "metadata": {
        "id": "d2FpGr6TKUwF"
      }
    },
    {
      "cell_type": "markdown",
      "source": [],
      "metadata": {
        "id": "GKzqXg3CjH6C"
      }
    },
    {
      "cell_type": "markdown",
      "source": [],
      "metadata": {
        "id": "RaJMIdYgjIFi"
      }
    },
    {
      "cell_type": "code",
      "execution_count": null,
      "metadata": {
        "colab": {
          "base_uri": "https://localhost:8080/"
        },
        "id": "phLxo5DuGviW",
        "outputId": "455b0012-f981-4101-da2b-9c2ebc317083"
      },
      "outputs": [
        {
          "output_type": "stream",
          "name": "stdout",
          "text": [
            "insira um número: 4\n",
            "insira um número: 5\n",
            "9.0\n",
            "4.0\n",
            "7\n",
            "-3\n",
            "0.4\n",
            "10\n"
          ]
        }
      ],
      "source": [
        "#Imprima o resultado das questões\n",
        "\n",
        "num1 = float(input('insira um número: '))\n",
        "num2 = float(input('insira um número: '))\n",
        "\n",
        "print (num1 + num2)\n",
        "print (num1 % num2)\n",
        "\n",
        "print(a+b)\n",
        "print(a-b)\n",
        "print(a/b)\n",
        "print(a*b)"
      ]
    },
    {
      "cell_type": "code",
      "source": [
        "#indice de massa corporal IMC\n",
        "\n",
        "#IMC = peso / altura ** 2\n",
        "peso = float(input('insira seu peso: '))\n",
        "altura = float(input('insira sua altura: '))\n",
        "\n",
        "IMC = peso / altura**2\n",
        "#print(round(IMC, 2))\n",
        "print(f\"{IMC: .2f}\")"
      ],
      "metadata": {
        "colab": {
          "base_uri": "https://localhost:8080/"
        },
        "id": "BMlN1I7BKTZ1",
        "outputId": "e22d7cff-4196-4e48-f3cf-47cb0b531896"
      },
      "execution_count": null,
      "outputs": [
        {
          "output_type": "stream",
          "name": "stdout",
          "text": [
            "insira seu peso: 45\n",
            "insira sua altura: 1.70\n",
            " 15.57\n"
          ]
        }
      ]
    },
    {
      "cell_type": "code",
      "source": [
        "nome = input('coloque o nome: ')\n",
        "rua = input('nome da rua: ')\n",
        "número = input('número: ')\n",
        "bairro = input(' bairro: ')\n",
        "cidade = input('cidade: ')\n",
        "CEP = input('CEP - apenas numeros: ')\n",
        "\n",
        "print(f\"{nome}, residente á rua {rua}, {número}, {cidade}, {CEP}\")\n",
        "\n"
      ],
      "metadata": {
        "id": "f3iAiLRDOiSU"
      },
      "execution_count": null,
      "outputs": []
    },
    {
      "cell_type": "code",
      "source": [
        "# temperatura em fahrenheit\n",
        "temperatura = float(input('insira a temperatura em celsus: '))\n",
        "temperatura **9/5 + 32\n",
        "\n"
      ],
      "metadata": {
        "colab": {
          "base_uri": "https://localhost:8080/"
        },
        "id": "tynQbl9cQQgE",
        "outputId": "69704ab8-223e-4b29-9f24-a717463e3ef9"
      },
      "execution_count": null,
      "outputs": [
        {
          "name": "stdout",
          "output_type": "stream",
          "text": [
            "insira a temperatura em celsus: 45\n"
          ]
        },
        {
          "output_type": "execute_result",
          "data": {
            "text/plain": [
              "151336128515657.0"
            ]
          },
          "metadata": {},
          "execution_count": 36
        }
      ]
    },
    {
      "cell_type": "code",
      "source": [
        "#receba a idade do individuo e informe se ele é maior de idade.\n",
        "\n",
        "idade+ 20\n",
        "\n",
        "if idade > 18:\n",
        "  print()"
      ],
      "metadata": {
        "id": "bdh_hRpVTlAM"
      },
      "execution_count": null,
      "outputs": []
    },
    {
      "cell_type": "code",
      "source": [
        "#informe a idade do individuo e informe se é ele idoso (60), meia idade (+35), adulto (18), menor de idade\n",
        "idade = 13\n",
        "\n",
        "if idade >= 60:\n",
        "  print('É veio! ')\n",
        "elif idade >= 35:\n",
        "  print('da progasto! ')\n",
        "elif idade >= 18:\n",
        "  print('Adulto nee ')\n",
        "else:\n",
        "  print ('Tu é de menó ')"
      ],
      "metadata": {
        "colab": {
          "base_uri": "https://localhost:8080/"
        },
        "id": "SjCkaMe-WGj3",
        "outputId": "750301b2-7a56-49e8-e09a-bed2fc444c5f"
      },
      "execution_count": null,
      "outputs": [
        {
          "output_type": "stream",
          "name": "stdout",
          "text": [
            "Tu é de menó \n"
          ]
        }
      ]
    },
    {
      "cell_type": "code",
      "source": [
        "valor_compra = float(input('coloque o valor de compra: '))\n",
        "\n",
        "if valor_compra <= 100:\n",
        "  print('sem desconto')\n",
        "elif valor_compra  <= 500:\n",
        "  print('valor_compra * 0,1')\n",
        "elif valor_compra  <= 1000:\n",
        "  print('valor_compra * 0,2')\n",
        "else:\n",
        "  print('valor_compra * 0,3')\n"
      ],
      "metadata": {
        "id": "m94p99jvYkvz"
      },
      "execution_count": null,
      "outputs": []
    },
    {
      "cell_type": "code",
      "source": [
        "#Pergunte a idade do usuario e se tem CNH, caso satisfaça as duas condições\n",
        "\n",
        "idade = 19\n",
        "temCNH = True\n",
        "\n",
        "if idade > 18:\n",
        "  if temCNH:\n",
        "    print('pode dirigir')\n",
        "  else:\n",
        "    print('sem habilitação, não pode dirigir rapa!')\n",
        "else:\n",
        "  print('Menor de idade não pode dirigir')\n"
      ],
      "metadata": {
        "colab": {
          "base_uri": "https://localhost:8080/"
        },
        "id": "8J3YMiHXeaaQ",
        "outputId": "d06c9fb2-fe72-4c1a-e225-e84951ad7009"
      },
      "execution_count": null,
      "outputs": [
        {
          "output_type": "stream",
          "name": "stdout",
          "text": [
            "pode dirigir\n"
          ]
        }
      ]
    },
    {
      "cell_type": "markdown",
      "source": [],
      "metadata": {
        "id": "_KgynrnzgMNq"
      }
    }
  ]
}